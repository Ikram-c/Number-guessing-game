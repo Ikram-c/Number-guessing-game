{
 "cells": [
  {
   "cell_type": "markdown",
   "metadata": {},
   "source": [
    "# Number Guessing Game\n",
    "\n",
    "A Number guessing game in which you generate a random number and compare it to a user's input. If the user guesses the random number correctly they win! If they do not guess it correctly within three attempts they lose\n",
    "\n",
    "Requirements:\n",
    "\n",
    "- Tell the user the number range they will be guessing within\n",
    "- Ask the user for an input\n",
    "- Print what they answered and state if it is correct or incorrect\n",
    "- Then print whether or not it is higher or lower\n",
    "- If it is incorrect, allow user to guess a total of 3 times\n",
    "- If they are out of guesses or have guessed the correct number Print out their guesses and the correct number\n",
    "- Ask the user if they want to play again\n",
    "- If they decide to stop playing, output the number of attempts and correct guesses"
   ]
  },
  {
   "cell_type": "markdown",
   "metadata": {},
   "source": [
    "---\n",
    "\n",
    "### Basic Pseudocode\n"
   ]
  },
  {
   "cell_type": "code",
   "execution_count": null,
   "metadata": {},
   "outputs": [],
   "source": [
    "## set number of guesses and correct guesses in a global to store data\n",
    "## random number generator using random library\n",
    "## function to check if value is numeric (is instance integer wasn't working)\n",
    "## create while loop to see if value > < or = to random number"
   ]
  },
  {
   "cell_type": "markdown",
   "metadata": {},
   "source": [
    "---\n",
    "\n",
    "### Game"
   ]
  },
  {
   "cell_type": "code",
   "execution_count": null,
   "metadata": {},
   "outputs": [],
   "source": [
    "global number of guesses\n",
    "global correct_guesses"
   ]
  },
  {
   "cell_type": "code",
   "execution_count": null,
   "metadata": {},
   "outputs": [
    {
     "name": "stdout",
     "output_type": "stream",
     "text": [
      "okay!  I am Guessing a number between 1 and 10:\n",
      "2\n",
      "Your guess is too low\n"
     ]
    }
   ],
   "source": [
    "\n",
    "\n",
    "import random\n",
    "\n",
    "\n",
    "number_of_guesses=0\n",
    "correct_guesses = 0\n",
    "\n",
    "def check(guess):\n",
    "    j = guess.isnumeric()\n",
    "    if j == False:\n",
    "        print(\"type a number\")\n",
    "    return j\n",
    "    \n",
    "\n",
    "\n",
    "def game():\n",
    "    global correct_guesses\n",
    "    global number_of_guesses\n",
    "    number = random.randint(1, 10)\n",
    "    play = True\n",
    "    while play:\n",
    "        number_of_guesses = 0\n",
    "        print('okay! '+ ' I am Guessing a number between 1 and 10:')\n",
    "        count = 1\n",
    "\n",
    "        while number_of_guesses < 3:\n",
    "            count+= 1\n",
    "            guess = (input())\n",
    "            guess = check(guess)\n",
    "       \n",
    "            number_of_guesses += 1\n",
    "            if guess < number:\n",
    "                print('Your guess is too low')\n",
    "        \n",
    "            if guess > number:\n",
    "                print('Your guess is too high')\n",
    "            if guess == number:\n",
    "                break\n",
    "        if guess == number:\n",
    "            correct_guesses += 1\n",
    "            print('You guessed the number in ' + str(number_of_guesses) + ' tries!')\n",
    "        else:\n",
    "            print('You did not guess the number, The number was ' + str(number))\n",
    "    \n",
    "        count = 1\n",
    "        again = str(input(\"Do you want to play again, Y or N\"))\n",
    "        if again == \"N\":\n",
    "            play = False\n",
    "            print(f\"your number of attempts is {number_of_guesses}\")\n",
    "            print(f\"your number of correct attempts is {correct_guesses}\")\n",
    "            \n",
    "game()\n"
   ]
  }
 ],
 "metadata": {
  "kernelspec": {
   "display_name": "Python 3 (ipykernel)",
   "language": "python",
   "name": "python3"
  },
  "language_info": {
   "codemirror_mode": {
    "name": "ipython",
    "version": 3
   },
   "file_extension": ".py",
   "mimetype": "text/x-python",
   "name": "python",
   "nbconvert_exporter": "python",
   "pygments_lexer": "ipython3",
   "version": "3.9.13"
  },
  "latex_envs": {
   "LaTeX_envs_menu_present": true,
   "autoclose": false,
   "autocomplete": true,
   "bibliofile": "biblio.bib",
   "cite_by": "apalike",
   "current_citInitial": 1,
   "eqLabelWithNumbers": true,
   "eqNumInitial": 1,
   "hotkeys": {
    "equation": "Ctrl-E",
    "itemize": "Ctrl-I"
   },
   "labels_anchors": false,
   "latex_user_defs": false,
   "report_style_numbering": false,
   "user_envs_cfg": false
  },
  "vscode": {
   "interpreter": {
    "hash": "607079afe3a2a2d35ed9965cd3a5fc45cd7e1ba906577a56395d9b6815374bc5"
   }
  }
 },
 "nbformat": 4,
 "nbformat_minor": 4
}
